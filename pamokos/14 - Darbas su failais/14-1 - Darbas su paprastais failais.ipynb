{
  "cells": [
    {
      "cell_type": "markdown",
      "metadata": {
        "id": "view-in-github",
        "colab_type": "text"
      },
      "source": [
        "<a href=\"https://colab.research.google.com/github/moksliukai/mokslai2018/blob/master/pamokos/14%20-%20Darbas%20su%20failais/14-1%20-%20Darbas%20su%20paprastais%20failais.ipynb\" target=\"_parent\"><img src=\"https://colab.research.google.com/assets/colab-badge.svg\" alt=\"Open In Colab\"/></a>"
      ]
    },
    {
      "cell_type": "markdown",
      "metadata": {
        "id": "-SNpUSGnWrxv"
      },
      "source": [
        "[![Open In Colab](https://colab.research.google.com/assets/colab-badge.svg)](https://colab.research.google.com/github/blaztoma/pitono-pamokos/blob/main/pamokos/14%20-%20Darbas%20su%20failais/14-1%20-%20Darbas%20su%20paprastais%20failais.ipynb)"
      ]
    },
    {
      "cell_type": "markdown",
      "metadata": {
        "id": "P_RD2kR3Wrx0"
      },
      "source": [
        "# Darbas su paprastais failais"
      ]
    },
    {
      "cell_type": "markdown",
      "metadata": {
        "id": "HwgTSx8sWrx0"
      },
      "source": [
        "## Sintaksė\n",
        "\n",
        "Failo atidarymas:\n",
        "\n",
        "```\n",
        "open('failas.txt')\n",
        "```\n",
        "\n",
        "Failo nuskaitymas:\n",
        "\n",
        "```\n",
        ".read()\n",
        ".readline()\n",
        ".readlines()\n",
        "```\n",
        "\n",
        "Failo uždarymas:\n",
        "\n",
        "```\n",
        ".close()\n",
        "```\n",
        "\n",
        "Būsena ar failas uždarytas:\n",
        "\n",
        "```\n",
        ".closed\n",
        "```"
      ]
    },
    {
      "cell_type": "markdown",
      "metadata": {
        "id": "Hgi1gFckWrx1"
      },
      "source": [
        "## Pavyzdžiai"
      ]
    },
    {
      "cell_type": "code",
      "execution_count": null,
      "metadata": {
        "id": "83M41A6yWrx1",
        "outputId": "11f4e1b9-c585-4322-e00c-7f40f3a46754"
      },
      "outputs": [
        {
          "name": "stdout",
          "output_type": "stream",
          "text": [
            "koks nors\n",
            "mano norimas\n",
            "tekstas\n",
            "per kelias\n",
            "eilutes\n"
          ]
        }
      ],
      "source": [
        "failas = open('./tekstas.txt')\n",
        "\n",
        "nuskaitytas_tekstas = failas.read()\n",
        "\n",
        "print(nuskaitytas_tekstas)\n",
        "\n",
        "failas.close()"
      ]
    },
    {
      "cell_type": "code",
      "execution_count": null,
      "metadata": {
        "id": "l6zcbeunWrx3",
        "outputId": "f1654912-c383-4f6a-e2ea-589abf7af111"
      },
      "outputs": [
        {
          "name": "stdout",
          "output_type": "stream",
          "text": [
            "koks nors\n",
            "\n"
          ]
        }
      ],
      "source": [
        "failas = open('./tekstas.txt')\n",
        "\n",
        "nuskaitytas_tekstas = failas.readline()\n",
        "\n",
        "print(nuskaitytas_tekstas)\n",
        "\n",
        "failas.close()"
      ]
    },
    {
      "cell_type": "code",
      "execution_count": null,
      "metadata": {
        "id": "zQu_c2V6Wrx4",
        "outputId": "bb55fe28-087b-40f5-cf5d-a1deebd78345"
      },
      "outputs": [
        {
          "name": "stdout",
          "output_type": "stream",
          "text": [
            "koks nors\n",
            "\n",
            "mano norimas\n",
            "\n"
          ]
        }
      ],
      "source": [
        "failas = open('./tekstas.txt')\n",
        "\n",
        "nuskaitytas_tekstas = failas.readline()\n",
        "print(nuskaitytas_tekstas)\n",
        "\n",
        "nuskaitytas_tekstas = failas.readline()\n",
        "print(nuskaitytas_tekstas)\n",
        "\n",
        "failas.close()"
      ]
    },
    {
      "cell_type": "code",
      "execution_count": null,
      "metadata": {
        "id": "Kr12Cr6CWrx4",
        "outputId": "ad706f16-82b4-4c50-feed-62b917df4d99"
      },
      "outputs": [
        {
          "name": "stdout",
          "output_type": "stream",
          "text": [
            "['koks nors\\n', 'mano norimas\\n', 'tekstas\\n', 'per kelias\\n', 'eilutes']\n"
          ]
        }
      ],
      "source": [
        "failas = open('./tekstas.txt')\n",
        "\n",
        "nuskaitytas_tekstas = failas.readlines()\n",
        "\n",
        "print(nuskaitytas_tekstas)\n",
        "\n",
        "failas.close()"
      ]
    },
    {
      "cell_type": "code",
      "execution_count": null,
      "metadata": {
        "id": "XqvOp8IUWrx5",
        "outputId": "94fd5be6-3d43-4949-ae27-8a08006381e6"
      },
      "outputs": [
        {
          "name": "stdout",
          "output_type": "stream",
          "text": [
            "['koks nors', 'mano norimas', 'tekstas', 'per kelias', 'eilutes']\n"
          ]
        }
      ],
      "source": [
        "failas = open('./tekstas.txt')\n",
        "\n",
        "nuskaitytas_tekstas = failas.read()\n",
        "isskaidytas_tekstas = nuskaitytas_tekstas.splitlines()\n",
        "\n",
        "print(isskaidytas_tekstas)\n",
        "\n",
        "failas.close()"
      ]
    },
    {
      "cell_type": "markdown",
      "metadata": {
        "id": "1h2aNK2sWrx6"
      },
      "source": [
        "## Sintaksė\n",
        "\n",
        "Failo atidarymas ir uždarymas su `with`:\n",
        "\n",
        "```\n",
        "with open('failas.txt') as failas:\n",
        "```"
      ]
    },
    {
      "cell_type": "code",
      "execution_count": null,
      "metadata": {
        "id": "8J9xk7vQWrx7",
        "outputId": "524da4e9-5b2a-4b5c-ab44-7422bdae626d"
      },
      "outputs": [
        {
          "name": "stdout",
          "output_type": "stream",
          "text": [
            "koks nors\n",
            "mano norimas\n",
            "tekstas\n",
            "per kelias\n",
            "eilutes\n"
          ]
        }
      ],
      "source": [
        "with open('./tekstas.txt') as failas:\n",
        "    tekstas = failas.read()\n",
        "    print(tekstas)"
      ]
    },
    {
      "cell_type": "code",
      "execution_count": null,
      "metadata": {
        "id": "W1Wog4X2Wrx7",
        "outputId": "d3cc513b-86a8-47ce-c9ad-bde6baed01aa"
      },
      "outputs": [
        {
          "name": "stdout",
          "output_type": "stream",
          "text": [
            "nuskaityta eilute: koks nors\n",
            "nuskaityta eilute: mano norimas\n",
            "nuskaityta eilute: tekstas\n",
            "nuskaityta eilute: per kelias\n",
            "nuskaityta eilute: eilutes\n",
            "['koks nors', 'mano norimas', 'tekstas', 'per kelias', 'eilutes']\n"
          ]
        }
      ],
      "source": [
        "eilutes = []\n",
        "\n",
        "with open('./tekstas.txt') as failas:\n",
        "    for eilute in failas:\n",
        "        eilute = eilute.rstrip('\\n')\n",
        "        print('nuskaityta eilute:', eilute)\n",
        "        eilutes.append(eilute)\n",
        "\n",
        "print(eilutes)"
      ]
    },
    {
      "cell_type": "code",
      "execution_count": null,
      "metadata": {
        "id": "aTehct5lWrx8",
        "outputId": "b410849b-74c2-4f02-dd9f-5504b8443f1a"
      },
      "outputs": [
        {
          "name": "stdout",
          "output_type": "stream",
          "text": [
            "[{'vardas': 'Petras', 'pavarde': 'Petrauskas', 'amzius': 22, 'mokykla': 'KTU', 'vidurkis': 8.7}, {'vardas': 'Inga', 'pavarde': 'Ingauskienė', 'amzius': 23, 'mokykla': 'VDU', 'vidurkis': 8.9}, {'vardas': 'Ugnius', 'pavarde': 'Ugnavičius', 'amzius': 21, 'mokykla': 'KTU', 'vidurkis': 8.5}, {'vardas': 'Gintarė', 'pavarde': 'Gintarytė', 'amzius': 22, 'mokykla': 'VDU', 'vidurkis': 8.3}]\n"
          ]
        }
      ],
      "source": [
        "studentai = []\n",
        "\n",
        "with open('./studentai.txt', encoding=\"utf8\") as failas:\n",
        "    for eilute in failas:\n",
        "        eilute = eilute.rstrip('\\n')\n",
        "        isskaidyta = eilute.split(';')\n",
        "        studentas = dict(\n",
        "            vardas = isskaidyta[0],\n",
        "            pavarde = isskaidyta[1],\n",
        "            amzius = int(isskaidyta[2]),\n",
        "            # amzius = int(isskaidyta[2]) if isskaidyta[2] else 0,\n",
        "            mokykla = isskaidyta[3],\n",
        "            vidurkis = float(isskaidyta[4])\n",
        "        )\n",
        "        studentai.append(studentas)\n",
        "\n",
        "print(studentai)"
      ]
    },
    {
      "cell_type": "code",
      "execution_count": null,
      "metadata": {
        "id": "4gZ_WX9mWrx8",
        "outputId": "237cfb8e-b99e-4aeb-c9c0-8d9fef744f15"
      },
      "outputs": [
        {
          "name": "stdout",
          "output_type": "stream",
          "text": [
            "{'vardas': 'Inga', 'pavarde': 'Ingauskienė', 'amzius': 23, 'mokykla': 'VDU', 'vidurkis': 8.9}\n",
            "Inga su amžiumi 23 yra vyriausias(-a)\n"
          ]
        }
      ],
      "source": [
        "# Vyriausias studentas v1\n",
        "\n",
        "vyriausias_studentas = studentai[0]\n",
        "\n",
        "for studentas in studentai:\n",
        "    if studentas['amzius'] > vyriausias_studentas['amzius']:\n",
        "        vyriausias_studentas = studentas\n",
        "\n",
        "print(vyriausias_studentas)\n",
        "# arba:\n",
        "print(vyriausias_studentas['vardas'], 'su amžiumi', vyriausias_studentas['amzius'], 'yra vyriausias(-a)')"
      ]
    },
    {
      "cell_type": "code",
      "execution_count": null,
      "metadata": {
        "id": "T0zS0r6yWrx8",
        "outputId": "cb4fe436-8a80-4b3a-b553-a9deb9ebedf9"
      },
      "outputs": [
        {
          "name": "stdout",
          "output_type": "stream",
          "text": [
            "{'vardas': 'Inga', 'pavarde': 'Ingauskienė', 'amzius': 23, 'mokykla': 'VDU', 'vidurkis': 8.9}\n"
          ]
        }
      ],
      "source": [
        "# Vyriausias studentas v2\n",
        "\n",
        "print(max(studentai, key=lambda studentas: studentas['amzius']))"
      ]
    },
    {
      "cell_type": "markdown",
      "metadata": {
        "id": "zf4pEWEoWrx9"
      },
      "source": [
        "## Užduotys"
      ]
    },
    {
      "cell_type": "markdown",
      "metadata": {
        "id": "TZmR4NuJWrx9"
      },
      "source": [
        "### Užduotis 1\n",
        "\n",
        "Susikurkite paprastą tekstinį failą su norimu tekstu. Nuskaitykite šį failą ir suskaičiuokite kiek šiame faile yra žodžių, kiek simbolių ir kiek atskirų eilučių."
      ]
    },
    {
      "cell_type": "code",
      "execution_count": null,
      "metadata": {
        "id": "x1VTD-htWrx9"
      },
      "outputs": [],
      "source": [
        "# Kodą rašykite čia..."
      ]
    },
    {
      "cell_type": "markdown",
      "metadata": {
        "id": "hqF1B5k0Wrx-"
      },
      "source": [
        "### Užduotis 2\n",
        "\n",
        "Susikurkite tekstinį failą kuriame būtų ši informacija:\n",
        "\n",
        "```\n",
        "Audi;A4;2010;1.6\n",
        "Volvo;V60;2012;1.6\n",
        "Toyota;Prius;2011;1.2\n",
        "```\n",
        "\n",
        "Nuskaitykite šį failą. Kiekvieną eilutę susidėkite į žodyną (faile informacija pateikiama tokia: markė, modelis, metai, darbinis tūris), o tą žodyną įdėkite į bendrą automobilių sąrašą.\n",
        "\n",
        "Raskite kuris automobilis naujausias.\n",
        "\n",
        "Raskite metų vidurkį.\n",
        "\n",
        "Raskite kurio automobilio darbinis tūris mažiausias."
      ]
    },
    {
      "cell_type": "code",
      "execution_count": null,
      "metadata": {
        "id": "X5aJkVdjWrx-"
      },
      "outputs": [],
      "source": [
        "# Kodą rašykite čia..."
      ]
    }
  ],
  "metadata": {
    "kernelspec": {
      "display_name": "Python 3",
      "language": "python",
      "name": "python3"
    },
    "language_info": {
      "codemirror_mode": {
        "name": "ipython",
        "version": 3
      },
      "file_extension": ".py",
      "mimetype": "text/x-python",
      "name": "python",
      "nbconvert_exporter": "python",
      "pygments_lexer": "ipython3",
      "version": "3.11.3 (tags/v3.11.3:f3909b8, Apr  4 2023, 23:49:59) [MSC v.1934 64 bit (AMD64)]"
    },
    "orig_nbformat": 4,
    "vscode": {
      "interpreter": {
        "hash": "c261aea317cc0286b3b3261fbba9abdec21eaa57589985bb7a274bf54d6cc0a7"
      }
    },
    "colab": {
      "provenance": [],
      "include_colab_link": true
    }
  },
  "nbformat": 4,
  "nbformat_minor": 0
}