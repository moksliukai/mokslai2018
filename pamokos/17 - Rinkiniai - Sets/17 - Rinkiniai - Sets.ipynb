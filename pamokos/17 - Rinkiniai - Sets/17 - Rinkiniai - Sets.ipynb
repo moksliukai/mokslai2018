{
  "cells": [
    {
      "cell_type": "markdown",
      "metadata": {
        "id": "OzUScS-4hvf6"
      },
      "source": [
        "[![Open In Colab](https://colab.research.google.com/assets/colab-badge.svg)](https://colab.research.google.com/github/blaztoma/pitono-pamokos/blob/main/pamokos/17%20-%20Rinkiniai%20-%20Sets/17%20-%20Rinkiniai%20-%20Sets.ipynb)"
      ]
    },
    {
      "cell_type": "markdown",
      "metadata": {
        "id": "uxNhveN5hvgA"
      },
      "source": [
        "# Rinkiniai (`Sets`)"
      ]
    },
    {
      "cell_type": "markdown",
      "metadata": {
        "id": "Zy-pun29hvgA"
      },
      "source": [
        "## Apie rinkinius\n",
        "\n",
        "- Rinkiniai irgi skirti duomenų sugrupavimui, tačiau su rinkiniu galima turėti tik nesidubliuojančias reikšmes (tik unikalius duomenis).\n",
        "- Rinkiniuose duomenis galima keisti.\n",
        "- Tai yra tarpinis variantas tarp sąrašo ir žodyno (galima susidėti duomenis kaip į sąrašą, tačiau duomenys nėra rikiuojami kaip sąraše, nes yra be rikiavimo eiliškumo kaip žodyne).\n",
        "- Naudingiausia kai reikia turėti rinkinį su unikaliomis reikšmėmis, tačiau nerūpi duomenų eiliškumas, ar raktų-reikšmių poros."
      ]
    },
    {
      "cell_type": "markdown",
      "metadata": {
        "id": "0zEZv7WmhvgB"
      },
      "source": [
        "## Sintaksė\n",
        "\n",
        "1-as variantas:\n",
        "\n",
        "```\n",
        "rinkinys = {reikšmė, reikšmė, reikšmė}\n",
        "```\n",
        "\n",
        "2-as variantas:\n",
        "\n",
        "```\n",
        "rinkinys = set({reikšmė, reikšmė, reikšmė})\n",
        "```"
      ]
    },
    {
      "cell_type": "markdown",
      "metadata": {
        "id": "RHMJQ8fBhvgC"
      },
      "source": [
        "## Pavyzdžiai"
      ]
    },
    {
      "cell_type": "code",
      "execution_count": 1,
      "metadata": {
        "id": "x9J5a14YhvgC",
        "outputId": "65a6f29f-539e-4fc0-eabd-9c1c43ff0427",
        "colab": {
          "base_uri": "https://localhost:8080/"
        }
      },
      "outputs": [
        {
          "output_type": "stream",
          "name": "stdout",
          "text": [
            "{1, 2, 3, 4, 5}\n"
          ]
        }
      ],
      "source": [
        "rinkinys = set({1, 2, 3, 4, 4, 5, 5, 5})\n",
        "print(rinkinys)"
      ]
    },
    {
      "cell_type": "code",
      "execution_count": 2,
      "metadata": {
        "id": "hLNScnHIhvgE",
        "outputId": "0637b7d6-5991-43e7-c4d6-285267acc8b8",
        "colab": {
          "base_uri": "https://localhost:8080/"
        }
      },
      "outputs": [
        {
          "output_type": "stream",
          "name": "stdout",
          "text": [
            "{4, 5, 7}\n",
            "{8, 2, 3, 5}\n"
          ]
        }
      ],
      "source": [
        "pirmas = set({7, 4, 5})\n",
        "antras = {8, 2, 3, 5}\n",
        "\n",
        "print(pirmas)\n",
        "print(antras)"
      ]
    },
    {
      "cell_type": "code",
      "execution_count": 3,
      "metadata": {
        "id": "1Ew9FcbkhvgE",
        "outputId": "4a9f3f68-6c44-449e-eec9-349eb3818c7d",
        "colab": {
          "base_uri": "https://localhost:8080/"
        }
      },
      "outputs": [
        {
          "output_type": "stream",
          "name": "stdout",
          "text": [
            "{'Vilnius', 'Šiauliai', 'Kaunas', 'Klaipėda'}\n"
          ]
        }
      ],
      "source": [
        "unikalus_miestai = {\"Kaunas\", 'Vilnius', 'Klaipėda', 'Kaunas', 'Šiauliai'}\n",
        "\n",
        "print(unikalus_miestai)"
      ]
    },
    {
      "cell_type": "code",
      "execution_count": 4,
      "metadata": {
        "id": "PVLO2b8hhvgF",
        "outputId": "96208a85-e32c-4337-d2ab-39f90d5e22a2",
        "colab": {
          "base_uri": "https://localhost:8080/"
        }
      },
      "outputs": [
        {
          "output_type": "stream",
          "name": "stdout",
          "text": [
            "True\n",
            "False\n",
            "False\n"
          ]
        }
      ],
      "source": [
        "vardai = {'Petras', 'Ona', 'Gintaras', 'Ugnė'}\n",
        "print('Ona' in vardai)\n",
        "print('Ugnius' in vardai)\n",
        "print(5 in vardai)"
      ]
    },
    {
      "cell_type": "code",
      "execution_count": 5,
      "metadata": {
        "id": "P200ocmXhvgF",
        "outputId": "7e90fc8d-4aca-4aa0-9cd4-7b6185b07d21",
        "colab": {
          "base_uri": "https://localhost:8080/",
          "height": 158
        }
      },
      "outputs": [
        {
          "output_type": "error",
          "ename": "TypeError",
          "evalue": "'set' object is not subscriptable",
          "traceback": [
            "\u001b[0;31m---------------------------------------------------------------------------\u001b[0m",
            "\u001b[0;31mTypeError\u001b[0m                                 Traceback (most recent call last)",
            "\u001b[0;32m<ipython-input-5-4a6d78023ab4>\u001b[0m in \u001b[0;36m<cell line: 2>\u001b[0;34m()\u001b[0m\n\u001b[1;32m      1\u001b[0m \u001b[0mrink\u001b[0m \u001b[0;34m=\u001b[0m \u001b[0;34m{\u001b[0m\u001b[0;34m'pirmas'\u001b[0m\u001b[0;34m,\u001b[0m \u001b[0;34m'antras'\u001b[0m\u001b[0;34m,\u001b[0m \u001b[0;34m'trečias'\u001b[0m\u001b[0;34m}\u001b[0m\u001b[0;34m\u001b[0m\u001b[0;34m\u001b[0m\u001b[0m\n\u001b[0;32m----> 2\u001b[0;31m \u001b[0mprint\u001b[0m\u001b[0;34m(\u001b[0m\u001b[0mrink\u001b[0m\u001b[0;34m[\u001b[0m\u001b[0;36m0\u001b[0m\u001b[0;34m]\u001b[0m\u001b[0;34m)\u001b[0m \u001b[0;31m# klaida\u001b[0m\u001b[0;34m\u001b[0m\u001b[0;34m\u001b[0m\u001b[0m\n\u001b[0m",
            "\u001b[0;31mTypeError\u001b[0m: 'set' object is not subscriptable"
          ]
        }
      ],
      "source": [
        "rink = {'pirmas', 'antras', 'trečias'}\n",
        "print(rink[0]) # klaida"
      ]
    },
    {
      "cell_type": "code",
      "execution_count": 6,
      "metadata": {
        "id": "deh84rU1hvgF",
        "outputId": "f1f77086-d50e-4b35-c828-44c3ebafca51",
        "colab": {
          "base_uri": "https://localhost:8080/"
        }
      },
      "outputs": [
        {
          "output_type": "stream",
          "name": "stdout",
          "text": [
            "{'Jonas', 2.5, 3, 4, 5, 6.87, 7, 'Petras'}\n"
          ]
        }
      ],
      "source": [
        "ivairi_info = {7, 'Jonas', 4, 5, 'Petras', 6.87, 2.5, 3}\n",
        "print(ivairi_info)"
      ]
    },
    {
      "cell_type": "code",
      "execution_count": 7,
      "metadata": {
        "id": "7LB9_CbIhvgG",
        "outputId": "b4d0b77c-f845-4960-a8b8-6b5f09510b07",
        "colab": {
          "base_uri": "https://localhost:8080/"
        }
      },
      "outputs": [
        {
          "output_type": "stream",
          "name": "stdout",
          "text": [
            "2\n",
            "4\n",
            "6\n",
            "7\n"
          ]
        }
      ],
      "source": [
        "skaiciai = {7, 4, 2, 6}\n",
        "\n",
        "for sk in skaiciai:\n",
        "    print(sk)"
      ]
    },
    {
      "cell_type": "code",
      "execution_count": 8,
      "metadata": {
        "id": "87qREV1UhvgG",
        "outputId": "fb6ece9f-acc6-4dfc-eb43-bd88335a7718",
        "colab": {
          "base_uri": "https://localhost:8080/"
        }
      },
      "outputs": [
        {
          "output_type": "stream",
          "name": "stdout",
          "text": [
            "- Švedija\n",
            "- Norvegija\n",
            "- Latvija\n",
            "- Estija\n",
            "- Lietuva\n"
          ]
        }
      ],
      "source": [
        "salys = {'Lietuva', 'Latvija', 'Estija', 'Švedija', 'Norvegija'}\n",
        "\n",
        "for salis in salys:\n",
        "    print('-', salis)"
      ]
    },
    {
      "cell_type": "code",
      "execution_count": 9,
      "metadata": {
        "id": "hKlxYOmUhvgG",
        "outputId": "e017ea2a-fd76-457b-d153-acf5a3823baf",
        "colab": {
          "base_uri": "https://localhost:8080/"
        }
      },
      "outputs": [
        {
          "output_type": "stream",
          "name": "stdout",
          "text": [
            "visi miestai: ['Kaunas', 'Vilnius', 'Kaunas', 'Klaipėda', 'Panevėžys', 'Šiauliai', 'Vilnius'] \n",
            "\n",
            "unikalūs miestai: {'Panevėžys', 'Šiauliai', 'Klaipėda', 'Vilnius', 'Kaunas'}\n"
          ]
        }
      ],
      "source": [
        "miestai = ['Kaunas', 'Vilnius', 'Kaunas', 'Klaipėda', 'Panevėžys', 'Šiauliai', 'Vilnius']\n",
        "\n",
        "print('visi miestai:', miestai, '\\n')\n",
        "\n",
        "unikalus_miestai = set(miestai)\n",
        "\n",
        "print('unikalūs miestai:', unikalus_miestai)"
      ]
    },
    {
      "cell_type": "code",
      "execution_count": 10,
      "metadata": {
        "id": "WJNEeuIyhvgH",
        "outputId": "feb4e1f6-1ff9-4ae9-bcf2-4bd65097f5d1",
        "colab": {
          "base_uri": "https://localhost:8080/"
        }
      },
      "outputs": [
        {
          "output_type": "stream",
          "name": "stdout",
          "text": [
            "visi miestai: ['Kaunas', 'Vilnius', 'Kaunas', 'Klaipėda', 'Panevėžys', 'Šiauliai', 'Vilnius'] \n",
            "\n",
            "sąraše 1: ['Panevėžys', 'Šiauliai', 'Klaipėda', 'Vilnius', 'Kaunas'] \n",
            "\n",
            "sąraše 2: ['Panevėžys', 'Šiauliai', 'Klaipėda', 'Vilnius', 'Kaunas']\n"
          ]
        }
      ],
      "source": [
        "miestai = ['Kaunas', 'Vilnius', 'Kaunas', 'Klaipėda', 'Panevėžys', 'Šiauliai', 'Vilnius']\n",
        "\n",
        "print('visi miestai:', miestai, '\\n')\n",
        "\n",
        "unikalus_miestai = set(miestai)\n",
        "unikalus_miestai_sarase1 = list(unikalus_miestai)\n",
        "print('sąraše 1:', unikalus_miestai_sarase1, '\\n')\n",
        "\n",
        "unikalus_miestai_sarase2 = list(set(miestai))\n",
        "print('sąraše 2:', unikalus_miestai_sarase2)"
      ]
    },
    {
      "cell_type": "code",
      "execution_count": 11,
      "metadata": {
        "id": "w5_1GVO7hvgH",
        "outputId": "f5475bec-ccb8-4117-819b-f0700239f35e",
        "colab": {
          "base_uri": "https://localhost:8080/"
        }
      },
      "outputs": [
        {
          "output_type": "stream",
          "name": "stdout",
          "text": [
            "skirtingų miestų yra: 5\n"
          ]
        }
      ],
      "source": [
        "miestai = ['Kaunas', 'Vilnius', 'Kaunas', 'Klaipėda', 'Pavevėžys', 'Šiauliai', 'Vilnius']\n",
        "\n",
        "print('skirtingų miestų yra:', len(set(miestai)))"
      ]
    },
    {
      "cell_type": "code",
      "execution_count": 12,
      "metadata": {
        "id": "gGMZ6ej7hvgI",
        "outputId": "939673da-980e-49c6-9da5-73e6556050f9",
        "colab": {
          "base_uri": "https://localhost:8080/"
        }
      },
      "outputs": [
        {
          "output_type": "stream",
          "name": "stdout",
          "text": [
            "{1, 2, 3, 4}\n",
            "{1, 2, 3, 4}\n"
          ]
        }
      ],
      "source": [
        "s = set([1, 2, 3])\n",
        "\n",
        "s.add(4)\n",
        "print(s)\n",
        "\n",
        "s.add(4)\n",
        "print(s)"
      ]
    },
    {
      "cell_type": "code",
      "execution_count": 13,
      "metadata": {
        "id": "AhR-82AdhvgI",
        "outputId": "92307490-0856-4e11-bdb5-605f892ac470",
        "colab": {
          "base_uri": "https://localhost:8080/"
        }
      },
      "outputs": [
        {
          "output_type": "stream",
          "name": "stdout",
          "text": [
            "{'Pavevėžys', 'Šiauliai', 'Klaipėda', 'Kaunas', 'Vilnius'} \n",
            "\n",
            "{'Ukmergė', 'Pavevėžys', 'Šiauliai', 'Klaipėda', 'Kaunas', 'Vilnius'}\n"
          ]
        }
      ],
      "source": [
        "miestai = {'Kaunas', 'Vilnius', 'Kaunas', 'Klaipėda', 'Pavevėžys', 'Šiauliai', 'Vilnius'}\n",
        "print(miestai, '\\n')\n",
        "\n",
        "miestai.add('Ukmergė')\n",
        "miestai.add('Kaunas')\n",
        "print(miestai)"
      ]
    },
    {
      "cell_type": "code",
      "execution_count": 14,
      "metadata": {
        "id": "V30dORVyhvgI",
        "outputId": "350a48ac-3fab-4a8d-903f-e00252e5128d",
        "colab": {
          "base_uri": "https://localhost:8080/",
          "height": 228
        }
      },
      "outputs": [
        {
          "output_type": "stream",
          "name": "stdout",
          "text": [
            "{1, 2, 4, 5, 6}\n"
          ]
        },
        {
          "output_type": "error",
          "ename": "KeyError",
          "evalue": "7",
          "traceback": [
            "\u001b[0;31m---------------------------------------------------------------------------\u001b[0m",
            "\u001b[0;31mKeyError\u001b[0m                                  Traceback (most recent call last)",
            "\u001b[0;32m<ipython-input-14-d23b0b6f0c62>\u001b[0m in \u001b[0;36m<cell line: 6>\u001b[0;34m()\u001b[0m\n\u001b[1;32m      4\u001b[0m \u001b[0mprint\u001b[0m\u001b[0;34m(\u001b[0m\u001b[0mskaiciai\u001b[0m\u001b[0;34m)\u001b[0m\u001b[0;34m\u001b[0m\u001b[0;34m\u001b[0m\u001b[0m\n\u001b[1;32m      5\u001b[0m \u001b[0;34m\u001b[0m\u001b[0m\n\u001b[0;32m----> 6\u001b[0;31m \u001b[0mskaiciai\u001b[0m\u001b[0;34m.\u001b[0m\u001b[0mremove\u001b[0m\u001b[0;34m(\u001b[0m\u001b[0;36m7\u001b[0m\u001b[0;34m)\u001b[0m \u001b[0;31m# klaida\u001b[0m\u001b[0;34m\u001b[0m\u001b[0;34m\u001b[0m\u001b[0m\n\u001b[0m\u001b[1;32m      7\u001b[0m \u001b[0;34m\u001b[0m\u001b[0m\n\u001b[1;32m      8\u001b[0m \u001b[0;31m# jeigu reikia išvengti trynimo klaidų - naudokite .discard()\u001b[0m\u001b[0;34m\u001b[0m\u001b[0;34m\u001b[0m\u001b[0m\n",
            "\u001b[0;31mKeyError\u001b[0m: 7"
          ]
        }
      ],
      "source": [
        "skaiciai = {1, 2, 3, 4, 5, 6}\n",
        "\n",
        "skaiciai.remove(3)\n",
        "print(skaiciai)\n",
        "\n",
        "skaiciai.remove(7) # klaida\n",
        "\n",
        "# jeigu reikia išvengti trynimo klaidų - naudokite .discard()"
      ]
    },
    {
      "cell_type": "code",
      "execution_count": 15,
      "metadata": {
        "id": "X45YJ8Y7hvgI",
        "outputId": "10d3799a-2d50-4a39-e0e7-581270b4e647",
        "colab": {
          "base_uri": "https://localhost:8080/"
        }
      },
      "outputs": [
        {
          "output_type": "stream",
          "name": "stdout",
          "text": [
            "{'Šiauliai', 'Klaipėda', 'Kaunas', 'Vilnius'}\n",
            "{'Šiauliai', 'Klaipėda', 'Kaunas'}\n"
          ]
        }
      ],
      "source": [
        "miestai = {'Kaunas', 'Vilnius', 'Kaunas', 'Klaipėda', 'Pavevėžys', 'Šiauliai', 'Vilnius'}\n",
        "\n",
        "miestai.remove('Pavevėžys')\n",
        "# miestai.remove('Biržai') # klaida\n",
        "\n",
        "print(miestai)\n",
        "\n",
        "miestai.discard('Biržai')\n",
        "miestai.discard('Vilnius')\n",
        "\n",
        "print(miestai)"
      ]
    },
    {
      "cell_type": "code",
      "execution_count": 16,
      "metadata": {
        "id": "0EJIQyANhvgJ",
        "outputId": "90afc5c6-a4db-4b51-e0c9-12309c0f70fa",
        "colab": {
          "base_uri": "https://localhost:8080/"
        }
      },
      "outputs": [
        {
          "output_type": "stream",
          "name": "stdout",
          "text": [
            "pirmas {1, 2, 3}\n",
            "antras {1, 2, 3}\n",
            "\n",
            "True\n",
            "False\n"
          ]
        }
      ],
      "source": [
        "pirmas = set([1, 2, 3])\n",
        "antras = pirmas.copy()\n",
        "\n",
        "print('pirmas', pirmas)\n",
        "print('antras', antras)\n",
        "print()\n",
        "\n",
        "print(pirmas == antras) # ar sutampa reikšmės\n",
        "print(pirmas is antras) # ar žiūri į tą pačią vietą atmintyje"
      ]
    },
    {
      "cell_type": "code",
      "execution_count": 17,
      "metadata": {
        "id": "U7an5sG3hvgJ",
        "outputId": "6456754a-e856-404a-c7f4-d0256b6bc30f",
        "colab": {
          "base_uri": "https://localhost:8080/"
        }
      },
      "outputs": [
        {
          "output_type": "stream",
          "name": "stdout",
          "text": [
            "set()\n"
          ]
        }
      ],
      "source": [
        "rinkinys = set([1, 2, 3])\n",
        "rinkinys.clear() # išvalymas\n",
        "print(rinkinys)"
      ]
    },
    {
      "cell_type": "code",
      "execution_count": 18,
      "metadata": {
        "id": "5NWz_TX6hvgM",
        "outputId": "afa97f5e-e478-4213-964f-62bac6cdadab",
        "colab": {
          "base_uri": "https://localhost:8080/"
        }
      },
      "outputs": [
        {
          "output_type": "stream",
          "name": "stdout",
          "text": [
            "{'Jonas', 'Povilas', 'Greta', 'Ona', 'Gintarė', 'Petras', 'Giedrius'}\n"
          ]
        }
      ],
      "source": [
        "matematikos_studentai = {'Ona', 'Petras', 'Giedrius', 'Gintarė'}\n",
        "biologijos_studentai = {'Petras', 'Jonas', 'Ona', 'Povilas', 'Greta'}\n",
        "\n",
        "visi_unikalus_studentai = matematikos_studentai | biologijos_studentai\n",
        "\n",
        "print(visi_unikalus_studentai)"
      ]
    },
    {
      "cell_type": "code",
      "execution_count": 19,
      "metadata": {
        "id": "fUVNCUYXhvgM",
        "outputId": "0ef553c3-4fab-4888-9eb1-6e0bc8c7f2f4",
        "colab": {
          "base_uri": "https://localhost:8080/"
        }
      },
      "outputs": [
        {
          "output_type": "stream",
          "name": "stdout",
          "text": [
            "{'Petras', 'Ona'}\n"
          ]
        }
      ],
      "source": [
        "matematikos_studentai = {'Ona', 'Petras', 'Giedrius', 'Gintarė'}\n",
        "biologijos_studentai = {'Petras', 'Jonas', 'Ona', 'Povilas', 'Greta'}\n",
        "\n",
        "studentai_tik_abiejuose = matematikos_studentai & biologijos_studentai\n",
        "\n",
        "print(studentai_tik_abiejuose)"
      ]
    },
    {
      "cell_type": "code",
      "execution_count": 20,
      "metadata": {
        "id": "rsXHxE56hvgM",
        "outputId": "5cb3baa5-8ab6-430e-9eeb-7692beba06a8",
        "colab": {
          "base_uri": "https://localhost:8080/"
        }
      },
      "outputs": [
        {
          "output_type": "stream",
          "name": "stdout",
          "text": [
            "{'T', 'S', 'A', 'L', 'B', 'Y', ' ', 'R'}\n"
          ]
        }
      ],
      "source": [
        "raides = { raide.upper() for raide in 'labas rytas' }\n",
        "print(raides)"
      ]
    },
    {
      "cell_type": "code",
      "execution_count": 21,
      "metadata": {
        "id": "1Obj2xFNhvgM",
        "outputId": "65046887-ed8e-43fb-c089-c023211cb6cb",
        "colab": {
          "base_uri": "https://localhost:8080/"
        }
      },
      "outputs": [
        {
          "output_type": "stream",
          "name": "stdout",
          "text": [
            "{0, 1, 64, 4, 36, 9, 16, 49, 81, 25}\n"
          ]
        }
      ],
      "source": [
        "skaiciai = { x ** 2 for x in range(10) }\n",
        "print(skaiciai)"
      ]
    },
    {
      "cell_type": "markdown",
      "metadata": {
        "id": "EE2roZ3EhvgM"
      },
      "source": [
        "## Užduotys"
      ]
    },
    {
      "cell_type": "markdown",
      "metadata": {
        "id": "BKIYgYJjhvgM"
      },
      "source": [
        "### Užduotis 1\n",
        "\n",
        "Įsivaizduokite, kad sukūrėte balsavimo formą, kurioje žmogus galėjo rinktis 1 iš kelių galimų variantų (ar įrašyti savo) ir turite sąraše visus tuos balsavimo duomenis (pvz: balsavimui panaudotas klausimas `\"labiausiai patinkanti kalba:\"`, o atsakymai `['c++', 'python', 'python', 'javascript', 'python', 'c#', 'javascript']`). Atrinkite visus skirtingus atsakymų variantus į atskirą sąrašą (būtų `['c++', 'python', 'javascript', 'c#']`)."
      ]
    },
    {
      "cell_type": "code",
      "execution_count": null,
      "metadata": {
        "id": "X3q7JHIBhvgN"
      },
      "outputs": [],
      "source": [
        "# Kodą rašykite čia..."
      ]
    },
    {
      "cell_type": "markdown",
      "metadata": {
        "id": "WLC_sB9NhvgN"
      },
      "source": [
        "### Užduotis 2\n",
        "\n",
        "Savo nuožiūra atlikite dar bent vieną analogišką užduotį."
      ]
    },
    {
      "cell_type": "code",
      "execution_count": null,
      "metadata": {
        "id": "nKrpnbyOhvgN"
      },
      "outputs": [],
      "source": [
        "# Kodą rašykite čia..."
      ]
    }
  ],
  "metadata": {
    "kernelspec": {
      "display_name": "Python 3",
      "language": "python",
      "name": "python3"
    },
    "language_info": {
      "codemirror_mode": {
        "name": "ipython",
        "version": 3
      },
      "file_extension": ".py",
      "mimetype": "text/x-python",
      "name": "python",
      "nbconvert_exporter": "python",
      "pygments_lexer": "ipython3",
      "version": "3.7.9 (tags/v3.7.9:13c94747c7, Aug 17 2020, 18:58:18) [MSC v.1900 64 bit (AMD64)]"
    },
    "orig_nbformat": 4,
    "vscode": {
      "interpreter": {
        "hash": "aa11ca274996316222ef16f35c5f6dbeb467b694c0b2154cdf34dcf9271d5fd0"
      }
    },
    "colab": {
      "provenance": []
    }
  },
  "nbformat": 4,
  "nbformat_minor": 0
}