{
  "nbformat": 4,
  "nbformat_minor": 0,
  "metadata": {
    "colab": {
      "provenance": [],
      "authorship_tag": "ABX9TyOT+EhFLmc1w30R3xp0Caf6",
      "include_colab_link": true
    },
    "kernelspec": {
      "name": "python3",
      "display_name": "Python 3"
    },
    "language_info": {
      "name": "python"
    }
  },
  "cells": [
    {
      "cell_type": "markdown",
      "metadata": {
        "id": "view-in-github",
        "colab_type": "text"
      },
      "source": [
        "<a href=\"https://colab.research.google.com/github/moksliukai/mokslai2018/blob/master/2024_03_14uzd.ipynb\" target=\"_parent\"><img src=\"https://colab.research.google.com/assets/colab-badge.svg\" alt=\"Open In Colab\"/></a>"
      ]
    },
    {
      "cell_type": "markdown",
      "source": [
        "Liepkite naudotojui įvesti tiek skaičių, kiek jis nori. Įvedimą sustabdykite tuomet, kai vartototojas įves 0 ar -1, ar kitą jūsų pasirinktą skaičių ar simbolį. Raskite naudotojo įvestų skaičių sumą, vidurkį. Nepamirškite tikrinti įvedamų skaičių teisingumą ir kartoti įvedimą, kai jie įvesti neteisingai."
      ],
      "metadata": {
        "id": "XSRFkhJn4qIY"
      }
    },
    {
      "cell_type": "code",
      "execution_count": 1,
      "metadata": {
        "colab": {
          "base_uri": "https://localhost:8080/"
        },
        "id": "YnNntzMw4hQN",
        "outputId": "687439e1-0a5a-4758-d291-a772fcaa5e44"
      },
      "outputs": [
        {
          "output_type": "stream",
          "name": "stdout",
          "text": [
            "Įveskite skaičių (0 arba -1 nutrauks įvedimą): 12\n",
            "Įveskite skaičių (0 arba -1 nutrauks įvedimą): 2\n",
            "Įveskite skaičių (0 arba -1 nutrauks įvedimą): 8\n",
            "Įveskite skaičių (0 arba -1 nutrauks įvedimą): 0\n",
            "Įvestų skaičių suma: 22.0\n",
            "Įvestų skaičių vidurkis: 7.333333333333333\n"
          ]
        }
      ],
      "source": [
        "def get_valid_number():\n",
        "    while True:\n",
        "        try:\n",
        "            num = float(input(\"Įveskite skaičių (0 arba -1 nutrauks įvedimą): \"))\n",
        "            if num == 0 or num == -1:  # Nutraukti įvedimą\n",
        "                return None\n",
        "            else:\n",
        "                return num\n",
        "        except ValueError:\n",
        "            print(\"Įveskite skaičių!\")\n",
        "\n",
        "numbers = []\n",
        "while True:\n",
        "    num = get_valid_number()\n",
        "    if num is None:\n",
        "        break\n",
        "    else:\n",
        "        numbers.append(num)\n",
        "\n",
        "if numbers:\n",
        "    total = sum(numbers)\n",
        "    average = total / len(numbers)\n",
        "    print(\"Įvestų skaičių suma:\", total)\n",
        "    print(\"Įvestų skaičių vidurkis:\", average)\n",
        "else:\n",
        "    print(\"Nėra įvestų skaičių.\")\n"
      ]
    },
    {
      "cell_type": "markdown",
      "source": [
        "Suskaičiuoti kiek duonos kepalų kepykla sugebės iškepti per dieną, ar spės įgyvendinti visus dienos užsakymus ir suskaičiuoti kiek iš jų uždirbs pelno.\n",
        "Duomenys\n",
        "Apibrėžti duomenys:\n",
        "•\tDarbo valandų per dieną - 8 val.\n",
        "Jūsų įvedami duomenys:\n",
        "•\tKiek darbuotojas gali iškepti kepalų per valandą.\n",
        "•\tKiek darbuotojų turi kepykla.\n",
        "•\tVieno kepalo savikaina.\n",
        "•\tVieno kepalo pardavimo kaina.\n",
        "•\tKiek kepykla turi tą dieną iškepti kepalų (užsakymai).\n",
        "Skaičiavimai\n",
        "Suskaičiuoti kiek kepykla per vieną darbo dieną spės iškepti duonos kepalų.\n",
        "Apskaičiuoti visų kepalų savikainą, gautas pajamas pardavus ir iš to gauto pelno dalį.\n",
        "Patikrinti ar kepykla spės iškepti visus tos dienos užsakymus. Jei ne, suskaičiuoti kiek kepalų nespės iškepti.\n",
        "Papildomai įvertinkite tai, kad pajamas ir pelną galite gauti tik iš parduotų kepalų.\n"
      ],
      "metadata": {
        "id": "N0j0ddr94idO"
      }
    },
    {
      "cell_type": "code",
      "source": [
        "def main():\n",
        "    darbo_valandos = 8\n",
        "\n",
        "    kepalo_gamybos_greitis = float(input(\"Kiek kepalų darbuotojas gali iškepti per valandą: \"))\n",
        "    darbuotojai = int(input(\"Kiek darbuotojų turi kepykla: \"))\n",
        "    savikaina = float(input(\"Vieno kepalo savikaina: \"))\n",
        "    pardavimo_kaina = float(input(\"Vieno kepalo pardavimo kaina: \"))\n",
        "    uzsisakyti_kepalai = int(input(\"Kiek kepalų turi būti iškepti šiandien: \"))\n",
        "\n",
        "    kepalu_kiekis_per_diena = darbo_valandos * kepalo_gamybos_greitis * darbuotojai\n",
        "    visu_kepalu_savikaina = savikaina * kepalu_kiekis_per_diena\n",
        "    pajamos = pardavimo_kaina * min(kepalu_kiekis_per_diena, uzsisakyti_kepalai)\n",
        "    pelnas = pajamos - visu_kepalu_savikaina\n",
        "\n",
        "    if kepalu_kiekis_per_diena >= uzsisakyti_kepalai:\n",
        "        print(\"Visi užsakymai bus įvykdyti.\")\n",
        "    else:\n",
        "        neiskepti_kepalai = uzsisakyti_kepalai - kepalu_kiekis_per_diena\n",
        "        print(f\"Kepykla nespės iškepti visų užsakymų. Trūksta {neiskepti_kepalai} kepalų.\")\n",
        "\n",
        "    print(\"Visų kepalų savikaina:\", visu_kepalu_savikaina)\n",
        "    print(\"Gautos pajamos:\", pajamos)\n",
        "    print(\"Pelnas:\", pelnas)\n",
        "\n",
        "if __name__ == \"__main__\":\n",
        "    main()\n"
      ],
      "metadata": {
        "colab": {
          "base_uri": "https://localhost:8080/"
        },
        "id": "7vW_kP8i4vCm",
        "outputId": "ab18c713-a9a6-4fa6-9b42-ee3f3310565d"
      },
      "execution_count": 2,
      "outputs": [
        {
          "output_type": "stream",
          "name": "stdout",
          "text": [
            "Kiek kepalų darbuotojas gali iškepti per valandą: 2\n",
            "Kiek darbuotojų turi kepykla: 2\n",
            "Vieno kepalo savikaina: 1\n",
            "Vieno kepalo pardavimo kaina: 2\n",
            "Kiek kepalų turi būti iškepti šiandien: 5\n",
            "Visi užsakymai bus įvykdyti.\n",
            "Visų kepalų savikaina: 32.0\n",
            "Gautos pajamos: 10.0\n",
            "Pelnas: -22.0\n"
          ]
        }
      ]
    },
    {
      "cell_type": "markdown",
      "source": [
        "Sukurkite žaidimą, panašų į skaičių spėliojimo žaidimą. Programa turi sugeneruoti du atsitiktinius skaičius (čia bus intervalo rėžiai). Naudotojas turės rasti bet kokį skaičių esantį tarp tų rėžių. Nepamirškite tikrinti įvedamų skaičių teisingumą ir kartoti įvedimą, kai jie įvesti neteisingai.\n",
        "Pavyzdžiui:\n",
        "Jeigu programa sugeneravo 2 ir 5, tai žmogus laimės jeigu spės 2, 3, 4, arba 5. Kitu atveju - pralaimės.\n"
      ],
      "metadata": {
        "id": "aSH606I24vsm"
      }
    },
    {
      "cell_type": "code",
      "source": [
        "import random\n",
        "\n",
        "def play_guessing_game():\n",
        "    lower_bound = random.randint(1, 10)  # Sugeneruojamas pirmas atsitiktinis skaičius\n",
        "    upper_bound = random.randint(11, 20)  # Sugeneruojamas antras atsitiktinis skaičius\n",
        "    secret_number = random.randint(lower_bound, upper_bound)  # Sugeneruojamas paslėptas skaičius\n",
        "\n",
        "    print(f\"Skaičius yra tarp {lower_bound} ir {upper_bound}\")\n",
        "\n",
        "    while True:\n",
        "        try:\n",
        "            guess = int(input(\"Spėkite skaičių: \"))\n",
        "            if lower_bound <= guess <= upper_bound:\n",
        "                if guess == secret_number:\n",
        "                    print(f\"Sveikiname! Paslėptas skaičius buvo {secret_number}. Jūs laimėjote!\")\n",
        "                    break  # Baigiamas žaidimas\n",
        "                else:\n",
        "                    print(\"Deja, skaičius neatitiko paslėpto skaičiaus. Bandykite dar kartą.\")\n",
        "            else:\n",
        "                print(f\"Skaičius turi būti tarp {lower_bound} ir {upper_bound}. Bandykite dar kartą.\")\n",
        "        except ValueError:\n",
        "            print(\"Įveskite sveikąjį skaičių!\")\n",
        "\n",
        "if __name__ == \"__main__\":\n",
        "    play_guessing_game()\n",
        "\n"
      ],
      "metadata": {
        "colab": {
          "base_uri": "https://localhost:8080/"
        },
        "id": "XBOirVbc40nO",
        "outputId": "8208092d-8e49-4688-b24d-b77d9e7f69b3"
      },
      "execution_count": 7,
      "outputs": [
        {
          "output_type": "stream",
          "name": "stdout",
          "text": [
            "Skaičius yra tarp 9 ir 11\n",
            "Spėkite skaičių: 10\n",
            "Deja, skaičius neatitiko paslėpto skaičiaus. Bandykite dar kartą.\n",
            "Spėkite skaičių: 11\n",
            "Deja, skaičius neatitiko paslėpto skaičiaus. Bandykite dar kartą.\n",
            "Spėkite skaičių: 9\n",
            "Sveikiname! Paslėptas skaičius buvo 9. Jūs laimėjote!\n"
          ]
        }
      ]
    },
    {
      "cell_type": "markdown",
      "source": [
        "Susikurkite skaičių sąrašą su duomenimis. Kai kurie elementai sąraše turėtų būti None reikšmės. Pvz.: [7, 8, 5, None, 3, 6, None, 4]. Sukurkite naują sąrašą, kur skaičiai persikeltų, o vietoj None reikšmės įsidėtų skaičius 0 (atkreipkite dėmesį, kad turi būti įrašytas kaip int, o ne str). Raskite visų skaičių sumą."
      ],
      "metadata": {
        "id": "tVfs7WrX41Ku"
      }
    },
    {
      "cell_type": "code",
      "source": [
        "# Pradinis sąrašas su duomenimis\n",
        "pradinis_sarasas = [7, 8, 5, None, 3, 6, None, 4]\n",
        "\n",
        "# Sukuriamas naujas sąrašas su skaičiais iš pradinio sąrašo ir pakeičiant None reikšmes į 0\n",
        "naujas_sarasas = [0 if x is None else int(x) for x in pradinis_sarasas]\n",
        "\n",
        "# Skaičių sumos apskaičiavimas\n",
        "suma = sum(naujas_sarasas)\n",
        "\n",
        "print(\"Naujas sąrašas:\", naujas_sarasas)\n",
        "print(\"Visų skaičių suma:\", suma)\n"
      ],
      "metadata": {
        "colab": {
          "base_uri": "https://localhost:8080/"
        },
        "id": "lr4yiaiV7w8D",
        "outputId": "d6593a3e-5ea5-4268-f191-822357a17bb0"
      },
      "execution_count": 8,
      "outputs": [
        {
          "output_type": "stream",
          "name": "stdout",
          "text": [
            "Naujas sąrašas: [7, 8, 5, 0, 3, 6, 0, 4]\n",
            "Visų skaičių suma: 33\n"
          ]
        }
      ]
    }
  ]
}