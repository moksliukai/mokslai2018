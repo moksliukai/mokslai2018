{
  "nbformat": 4,
  "nbformat_minor": 0,
  "metadata": {
    "colab": {
      "provenance": [],
      "authorship_tag": "ABX9TyPz8uCzh/DDcTu+/MqJoZhy",
      "include_colab_link": true
    },
    "kernelspec": {
      "name": "python3",
      "display_name": "Python 3"
    },
    "language_info": {
      "name": "python"
    }
  },
  "cells": [
    {
      "cell_type": "markdown",
      "metadata": {
        "id": "view-in-github",
        "colab_type": "text"
      },
      "source": [
        "<a href=\"https://colab.research.google.com/github/moksliukai/mokslai2018/blob/master/Uzduotys_2024_03_21.ipynb\" target=\"_parent\"><img src=\"https://colab.research.google.com/assets/colab-badge.svg\" alt=\"Open In Colab\"/></a>"
      ]
    },
    {
      "cell_type": "code",
      "execution_count": null,
      "metadata": {
        "id": "HxvUi5Il7pEX"
      },
      "outputs": [],
      "source": []
    },
    {
      "cell_type": "markdown",
      "source": [
        "## 2024-03-21"
      ],
      "metadata": {
        "id": "8Dr-i07U7qO7"
      }
    },
    {
      "cell_type": "markdown",
      "source": [
        "Padalinkite intervalą nuo -1.3 iki 2.5 tolygiai į 64 dalis."
      ],
      "metadata": {
        "id": "pdqW-ajp8vNa"
      }
    },
    {
      "cell_type": "code",
      "source": [
        "import numpy as np\n",
        "d = np.linspace(-1.3,2.5,64)\n",
        "print(d)\n",
        "print(d.shape)"
      ],
      "metadata": {
        "colab": {
          "base_uri": "https://localhost:8080/"
        },
        "id": "La3Gr_kW8yBC",
        "outputId": "102e9d8d-fc7b-4dcf-f357-19905db93d3a"
      },
      "execution_count": 3,
      "outputs": [
        {
          "output_type": "stream",
          "name": "stdout",
          "text": [
            "[-1.3        -1.23968254 -1.17936508 -1.11904762 -1.05873016 -0.9984127\n",
            " -0.93809524 -0.87777778 -0.81746032 -0.75714286 -0.6968254  -0.63650794\n",
            " -0.57619048 -0.51587302 -0.45555556 -0.3952381  -0.33492063 -0.27460317\n",
            " -0.21428571 -0.15396825 -0.09365079 -0.03333333  0.02698413  0.08730159\n",
            "  0.14761905  0.20793651  0.26825397  0.32857143  0.38888889  0.44920635\n",
            "  0.50952381  0.56984127  0.63015873  0.69047619  0.75079365  0.81111111\n",
            "  0.87142857  0.93174603  0.99206349  1.05238095  1.11269841  1.17301587\n",
            "  1.23333333  1.29365079  1.35396825  1.41428571  1.47460317  1.53492063\n",
            "  1.5952381   1.65555556  1.71587302  1.77619048  1.83650794  1.8968254\n",
            "  1.95714286  2.01746032  2.07777778  2.13809524  2.1984127   2.25873016\n",
            "  2.31904762  2.37936508  2.43968254  2.5       ]\n",
            "(64,)\n"
          ]
        }
      ]
    },
    {
      "cell_type": "markdown",
      "source": [
        "Sugeneruokite masyvą dydžio 3n ir užpildykite jį cikliniu šablonu [1, 2, 3]."
      ],
      "metadata": {
        "id": "1ogEjXVO7zEo"
      }
    },
    {
      "cell_type": "code",
      "source": [
        "import numpy as np\n",
        "def masyvo_užpildas1(n):\n",
        "    x = np.zeros(3*n, dtype=int)\n",
        "    np.putmask(x, np.ones_like(x), [1,2,3])\n",
        "    return x\n",
        "\n",
        "def masyvo_užpildas2(n):\n",
        "    return np.tile([1,2,3],n)\n",
        "\n",
        "masyvo_užpildas1(7), masyvo_užpildas2(7)"
      ],
      "metadata": {
        "colab": {
          "base_uri": "https://localhost:8080/"
        },
        "id": "lW5j8qXD7xni",
        "outputId": "65f447dc-646c-4d89-dfde-8325c96e15f7"
      },
      "execution_count": 1,
      "outputs": [
        {
          "output_type": "execute_result",
          "data": {
            "text/plain": [
              "(array([1, 2, 3, 1, 2, 3, 1, 2, 3, 1, 2, 3, 1, 2, 3, 1, 2, 3, 1, 2, 3]),\n",
              " array([1, 2, 3, 1, 2, 3, 1, 2, 3, 1, 2, 3, 1, 2, 3, 1, 2, 3, 1, 2, 3]))"
            ]
          },
          "metadata": {},
          "execution_count": 1
        }
      ]
    },
    {
      "cell_type": "markdown",
      "source": [
        "Sukurkite masyvą iš pirmųjų 10 nelyginių sveikųjų skaičių."
      ],
      "metadata": {
        "id": "7W3ibRAJ8QRZ"
      }
    },
    {
      "cell_type": "code",
      "source": [
        "def pirmieji1(n):\n",
        "    x = np.full(n,2)\n",
        "    x[0] = 1\n",
        "    return np.cumsum(x)\n",
        "\n",
        "def pirmieji2(n):\n",
        "    return np.arange(n)*2 + 1\n",
        "\n",
        "def pirmieji3(n):\n",
        "    return np.arange(1, 2*n, 2)\n",
        "\n",
        "print(pirmieji1(10))\n",
        "a = pirmieji2(10)\n",
        "print(a)\n",
        "print(pirmieji3(10))"
      ],
      "metadata": {
        "colab": {
          "base_uri": "https://localhost:8080/"
        },
        "id": "R0YAUQTr8Wga",
        "outputId": "ff529afa-4bba-4461-ff93-1ebce33a7e56"
      },
      "execution_count": 2,
      "outputs": [
        {
          "output_type": "stream",
          "name": "stdout",
          "text": [
            "[ 1  3  5  7  9 11 13 15 17 19]\n",
            "[ 1  3  5  7  9 11 13 15 17 19]\n",
            "[ 1  3  5  7  9 11 13 15 17 19]\n"
          ]
        }
      ]
    },
    {
      "cell_type": "markdown",
      "source": [
        "Parašykite funkciją, į kurią reikia įvesti kvadratinės lygties koeficientus ir kuri grąžina du sprendinius. Įtraukite ir atvejus, kai narys prie kvadrato yra nulinis arba diskriminantas neigiamas."
      ],
      "metadata": {
        "id": "6zFid4GM8cUy"
      }
    },
    {
      "cell_type": "code",
      "source": [],
      "metadata": {
        "id": "Cv0EVVQt9NUh"
      },
      "execution_count": null,
      "outputs": []
    },
    {
      "cell_type": "markdown",
      "source": [
        "Slidininkai 10 km rungtyje startuoja pagal atrankos etapo rezultatus. Slidininkas startuoja tiek laiko vėliau už lyderį, kiek laiko nuo jo yra atsilikęs.\n",
        "\n",
        "Parašykite programą, kuri pateiktų slidininkų rezultatų sąrašą pagal trasoje sugaištą laiką didėjančiai. Per vienodą laiką nušliuožę slidininkai turi būti rašomi abėcėliškai pagal simbolių eilutę, kurioje yra slidininką identifikuojanti informacija.\n",
        "\n",
        "Pradiniai duomenys\n",
        "\n",
        "Duomenys pateikiami tekstiniame faile U2.txt. Visi skaičiai yra sveikieji.\n",
        "\n",
        "Duomenų faile įrašyta:\n",
        "\n",
        "Pirmoje eilutėje užrašytas startuojančių slidininkų skaičius n (1 \\leq n\n",
        "\\leq 30).\n",
        "Tolesnėse n eilučių atsitiktine tvarka surašyti slidininkų starto duomenys. Kiekvieno slidininko duomenys užrašyti atskiroje eilutėje: pirmose 20 pozicijų yra simbolių eilutė, kurioje pateikta slidininką identifikuojanti informacija; po to starto laikas: valanda, minutė ir sekundė, atskirtos vienu tarpo simboliu.\n",
        "Toliau užrašytas finišavusių slidininkų skaičius m (1 \\leq m \\leq 30).\n",
        "Tolesnėse m eilučių surašyti slidininkų finišo duomenys. Kiekvieno slidininko duomenys užrašyti atskiroje eilutėje: pirmose 20 pozicijų yra simbolių eilutė, kurioje pateikta slidininką identifikuojanti informacija; po to finišo laikas: valanda, minutė ir sekundė, atskirtos vienu tarpo simboliu.\n",
        "Rezultatai\n",
        "\n",
        "Rezultatus įrašykite tekstiniame faile U2rez.txt.\n",
        "\n",
        "Vienoje eilutėje užrašykite vieno slidininko duomenis: pirmose 20 pozicijų – simbolių eilutę, kurioje pateikta slidininką identifikuojanti informacija, atskirta vienu tarpo simboliu, po to slidininko rezultatas: minutės ir sekundės, atskirtos vienu tarpo simboliu. 10 km rungtyje maksimalus slidininko sugaištas laikas yra ne daugiau kaip valanda.Jeigu slidininkas nepasiekė finišo(jo nėra finišavusiųjų sąraše), tai rezultatų sąraše jo neturi būti.\n",
        "Rezultatai turi būti surikiuoti pagal trasoje sugaištą laiką didėjančiai. Per vienodą laiką nušliuožę slidininkai rašomi abėcėliškai pagal simbolių eilutę, kurioje yra slidininką identifikuojanti informacija.\n",
        "Nurodymai\n",
        "\n",
        "Sukurkite ir parašykite funkciją1, kuri surikiuoja rezultatus.\n",
        "Sukurkite ir parašykite funkciją, kuri spausdina rezultatus tekstiniame faile.\n",
        "Programoje nenaudokite sakinių, skirtų darbui su ekranu.\n",
        "Duomenų ir rezultatų pavyzdžiai\\\n",
        "6\\\n",
        "Petras A. Petraitis 15 20 00\\\n",
        "Jurgis Jurgutis     16 12 12\\\n",
        "Rimas Jonas         15 15 59\\\n",
        "Zigmas Nosis        16 23 9\\\n",
        "Romas Senasis       15 15 15\\\n",
        "Rytis Uosis Ainis   16 23 9\\\n",
        "5\\\n",
        "Zigmas Nosis        16 43 15\\\n",
        "Petras A. Petraitis 15 50 10\\\n",
        "Romas Senasis       16 5 35\\\n",
        "Rytis Uosis Ainis   16 55 59\\\n",
        "Jurgis Jurgutis     16 42 22\\\n",
        "\n",
        "Gautas rezultatas\\\n",
        "\n",
        "Zigmas Nosis        20 6\\\n",
        "Jurgis Jurgutis     30 10\\\n",
        "Petras A. Petraitis 30 10\\\n",
        "Rytis Uosis Ainis   32 50\\\n",
        "Romas Senasis       50 20"
      ],
      "metadata": {
        "id": "hhm7FP_E-geS"
      }
    },
    {
      "cell_type": "code",
      "source": [],
      "metadata": {
        "id": "epLGbkqgEeY7"
      },
      "execution_count": null,
      "outputs": []
    }
  ]
}